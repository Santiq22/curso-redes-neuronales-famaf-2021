{
 "cells": [
  {
   "cell_type": "code",
   "execution_count": null,
   "metadata": {},
   "outputs": [],
   "source": [
    "import matplotlib.pyplot as plt\n",
    "import numpy as np"
   ]
  },
  {
   "cell_type": "markdown",
   "metadata": {},
   "source": [
    "# Teoría\n",
    "\n",
    "El objetivo es integrar, numéricamente, un sistema de Ecuaciónes Diferenciales Ordinarias (ODEs):\n",
    "\n",
    "$$\\frac{d\\vec{x}}{dt} = \\vec{f}(\\vec{x},t)$$\n",
    "\n",
    "en el intérvalo $t\\in [a,b]$, con condición inicial $\\vec{x}(a)$, donde $\\vec{x}\\in (\\mathbb{R} \\to \\mathbb{R}^n)$ y $\\vec{f} \\in (\\mathbb{R}^{n+1}\\to \\mathbb{R}^n)$."
   ]
  },
  {
   "cell_type": "markdown",
   "metadata": {},
   "source": [
    "# Método de Euler\n",
    "\n",
    "Consiste en calcular $x(t_0),x(t_1),...,x(t_j),...,x(t_k)$ con \n",
    "\n",
    "$$t_{j+1} = t_j + dt$$,\n",
    "\n",
    "$$t_0=a$$ y\n",
    "\n",
    "$$t_k=b$$, \n",
    "\n",
    "usando\n",
    "\n",
    "$$x(t_{j+1}) = x(t_j) + f(x(t_j),t_j)\\,dt$$\n",
    "\n",
    "para alguna constante relativamente *pequeña* $dt$ (que Pancho llamó $h$)."
   ]
  },
  {
   "cell_type": "code",
   "execution_count": null,
   "metadata": {},
   "outputs": [],
   "source": [
    "def euler(f,x,t,dt):\n",
    "    \"\"\"\n",
    "    Calcula un paso de integración del método de Euler.\n",
    "    \n",
    "    Argumentos de entrada:\n",
    "    \n",
    "        f : R^n -> R^n\n",
    "        x = x(t) : R^n\n",
    "        t = tiempo : R\n",
    "        dt = paso de tiempo : R\n",
    "        \n",
    "    Retorna aproximacion numérica de\n",
    "    \n",
    "        x(t+dt) : R^n\n",
    "\n",
    "    # Ejemplos:\n",
    "    \"\"\"\n",
    "    return x + dt*f(x,t)"
   ]
  },
  {
   "cell_type": "markdown",
   "metadata": {},
   "source": [
    "# Método Runge Kutta orden 2 (RK2)\n",
    "\n",
    "Lo veremos más adelante."
   ]
  },
  {
   "cell_type": "code",
   "execution_count": null,
   "metadata": {},
   "outputs": [],
   "source": [
    "def rk2(f,x,t,dt):\n",
    "    \"\"\"\n",
    "    Calcula un paso de integración del método de Runge Kutta orden 2.\n",
    "    \n",
    "    Argumentos de entrada:\n",
    "    \n",
    "        f : R^n -> R^n\n",
    "        x = x(t) : R^n\n",
    "        t = tiempo : R\n",
    "        dt = paso de tiempo : R\n",
    "        \n",
    "    Retorna aproximacion numérica de\n",
    "    \n",
    "        x(t+dt) : R^n\n",
    "\n",
    "    # Ejemplos:\n",
    "    \"\"\"\n",
    "    x1 = x + 0.5*dt*f(x,t)\n",
    "    return x + dt*f(x1,t+0.5*dt)"
   ]
  },
  {
   "cell_type": "markdown",
   "metadata": {},
   "source": [
    "# Método Runge Kutta orden 4 (RK4)\n",
    "\n",
    "Lo veremos más adelante."
   ]
  },
  {
   "cell_type": "code",
   "execution_count": null,
   "metadata": {},
   "outputs": [],
   "source": [
    "def rk4(f,x,t,dt):\n",
    "    \"\"\"\n",
    "    Calcula un paso de integración del método de Runge Kutta orden 4.\n",
    "    \n",
    "    Argumentos de entrada:\n",
    "    \n",
    "        f : R^n -> R^n\n",
    "        x = x(t) : R^n\n",
    "        t = tiempo : R\n",
    "        dt = paso de tiempo : R\n",
    "        \n",
    "    Retorna aproximacion numérica de\n",
    "    \n",
    "        x(t+dt) : R^n\n",
    "\n",
    "    # Ejemplos:\n",
    "    \"\"\"    \n",
    "    k1 = f(x,t)\n",
    "    k2 = f(x+0.5*dt*k1,t+0.5*dt)\n",
    "    k3 = f(x+0.5*dt*k2,t+0.5*dt)\n",
    "    k4 = f(x+dt*k3,t+dt)\n",
    "    return x+dt*(k1+2.0*k2+2.0*k3+k4)/6.0"
   ]
  },
  {
   "cell_type": "markdown",
   "metadata": {},
   "source": [
    "# Integrador de ODE"
   ]
  },
  {
   "cell_type": "code",
   "execution_count": null,
   "metadata": {},
   "outputs": [],
   "source": [
    "def integrador_ode(m,f,x0,a,b,k):\n",
    "    \"\"\"\n",
    "    Integra numéricamente la ODE\n",
    "    \n",
    "        dx/dt = f(x,t)\n",
    "        \n",
    "    sobre el intervalo t:[a,b] usando k pasos de integración y el método m, bajo condicion inicial x(a)=x0.\n",
    "    No es necesario que a<b.\n",
    "    \n",
    "    Argumentos de entrada:\n",
    "    \n",
    "        m = metodo de integracion (ej. euler, rk2, etc.)\n",
    "        f : R^n -> R^n\n",
    "        x0 = condicion inicial : R\n",
    "        a = tiempo inicial : R\n",
    "        b = tiempo final : R\n",
    "        k = num. pasos de integracion : N\n",
    "    \n",
    "    Retorna:\n",
    "    \n",
    "        t : R^{k+1} , t_j = t+j*dt para j=0,1,...,k\n",
    "        x : R^{k+1,n} , x_ij = x_i(t_j) para i=0,1,...,n-1 y j=0,1,...,k\n",
    "        \n",
    "    donde a+k*dt = b.\n",
    "    \"\"\"  \n",
    "    assert k>0\n",
    "    n = len(x0)\n",
    "    dt = (b-a)/k\n",
    "    x = np.zeros((n,k+1))\n",
    "    t = np.zeros(k+1)\n",
    "    x[:,0] = x0\n",
    "    t[0] = a\n",
    "    for j in range(k):\n",
    "        t[j+1] = t[j] + dt\n",
    "        x[:,j+1] = m(f,x[:,j],t[j],dt)\n",
    "    return t,x"
   ]
  },
  {
   "cell_type": "markdown",
   "metadata": {},
   "source": [
    "# Ejemplo 1\n",
    "\n",
    "Resuelva con los tres métodos Euler, RK2 y RK4 el siguiente problema de valores iniciales:\n",
    "$$\n",
    "\\frac{dx}{dt} = -x+\\sin(2\\pi t), \\;\\;\\;\\;\\;\\; 0 \\le t \\le 1\\; , \n",
    "\\;\\;\\;\\;\\; x(0) = 1.0\n",
    "$$\n",
    "en el intervalo $0 \\le t \\le 1$ con un paso de integración $dt=0.1$ \n",
    "\n",
    "Grafique tanto la solución obtenida y compare con la exacta: \n",
    "\n",
    "$$\n",
    "x_{\\mathrm{exacta}}(t)=\\Bigl(1+\\frac{2\\pi}{1+4\\pi^2}\\Bigr)e^{-t}+\\frac{\\sin(2\\pi t)-2\\pi\n",
    "    \\cos(2\\pi t)}{1+4\\pi^2},\n",
    "$$\n",
    "\n",
    "Grafique el error global, $\\mathrm{error}(t) = |x(t)-x_{\\mathrm{exacta}}(t)|$"
   ]
  },
  {
   "cell_type": "code",
   "execution_count": null,
   "metadata": {},
   "outputs": [],
   "source": [
    "def f(x,t):\n",
    "    return np.array([-x[0]+np.sin(2.0*np.pi*t)])\n",
    "\n",
    "x0=np.array([1.0])\n",
    "a=0.0\n",
    "b=1.0\n",
    "k=11\n",
    "\n",
    "t_e,x_e = integrador_ode(euler,f,x0,a,b,k)\n",
    "t_2,x_2 = integrador_ode(rk2,f,x0,a,b,k)\n",
    "t_4,x_4 = integrador_ode(rk4,f,x0,a,b,k)"
   ]
  },
  {
   "cell_type": "code",
   "execution_count": null,
   "metadata": {},
   "outputs": [],
   "source": [
    "t_e,x_e"
   ]
  },
  {
   "cell_type": "code",
   "execution_count": null,
   "metadata": {},
   "outputs": [],
   "source": [
    "t_2,x_2"
   ]
  },
  {
   "cell_type": "code",
   "execution_count": null,
   "metadata": {},
   "outputs": [],
   "source": [
    "t_4,x_4"
   ]
  },
  {
   "cell_type": "code",
   "execution_count": null,
   "metadata": {},
   "outputs": [],
   "source": [
    "def x_exacta(t):\n",
    "    return (1.0+2.0*np.pi/(1.0+4.0*np.pi**2))*np.exp(-t) + (np.sin(2.0*np.pi*t)-2.0*np.pi*np.cos(2.0*np.pi*t))/(1.0+4.0*np.pi**2)"
   ]
  },
  {
   "cell_type": "code",
   "execution_count": null,
   "metadata": {},
   "outputs": [],
   "source": [
    "plt.rcParams[\"figure.figsize\"] = (7,5) # Dimensions of the figure\n",
    "plt.rcParams['figure.dpi'] = 100 # Resolucion\n",
    "plt.title(\"Ejemplo 1\")\n",
    "plt.xlabel(\"t\")\n",
    "plt.ylabel(\"x\")\n",
    "\n",
    "# Euler\n",
    "plt.scatter(t_e,x_e[0,:],label='Euler,k='+str(k),color='red',linestyle='-')\n",
    "\n",
    "# RK2\n",
    "plt.scatter(t_2,x_2[0,:],label='RK2,k='+str(k),color='blue',linestyle='-')\n",
    "\n",
    "# RK4\n",
    "plt.scatter(t_4,x_4[0,:],label='RK4,k='+str(k),color='cyan',linestyle='-')\n",
    "\n",
    "# Exacta\n",
    "t = np.linspace(a,b,100)\n",
    "plt.plot(t,x_exacta(t),label='Exacta',color='black',linestyle='-.')\n",
    "\n",
    "plt.legend()\n",
    "plt.show()"
   ]
  },
  {
   "cell_type": "code",
   "execution_count": null,
   "metadata": {},
   "outputs": [],
   "source": [
    "plt.rcParams[\"figure.figsize\"] = (7,5) # Dimensions of the figure\n",
    "plt.rcParams['figure.dpi'] = 100 # Resolucion\n",
    "plt.title(\"Ejemplo 1\")\n",
    "plt.xlabel(\"t\")\n",
    "plt.ylabel(\"|x-x_exacta|\")\n",
    "plt.ylim(10**(-7),10**(-1))\n",
    "\n",
    "#plt.xscale('log')\n",
    "plt.yscale('log')\n",
    "\n",
    "# Euler\n",
    "err_e = np.abs(x_e[0,:]-x_exacta(t_e))\n",
    "plt.scatter(t_e,err_e,label='Euler,k='+str(k),color='red',linestyle='-')\n",
    "\n",
    "# RK2\n",
    "err_2 = np.abs(x_2[0,:]-x_exacta(t_e))\n",
    "plt.scatter(t_2,err_2,label='RK2,k='+str(k),color='blue',linestyle='-')\n",
    "\n",
    "# RK4\n",
    "err_4 = np.abs(x_4[0,:]-x_exacta(t_e))\n",
    "plt.scatter(t_4,err_4,label='RK4,k='+str(k),color='cyan',linestyle='-')\n",
    "\n",
    "plt.legend()\n",
    "plt.show()"
   ]
  },
  {
   "cell_type": "markdown",
   "metadata": {},
   "source": [
    "# Ejemplo 2\n",
    "\n",
    "Considere el problema de valores iniciales para la ecuación de la dinámica de un péndulo simple de longitud $l$\n",
    "$$\n",
    "\\frac{d^2\\theta}{d t^2} = - \\frac{g}{l} \\sin{(\\theta)}, \\quad\n",
    "\\theta(0)=\\theta_0, \\quad \\frac{d\\theta}{d t}(0)= \\dot{\\theta}_0,\n",
    "$$\n",
    "donde $g$ es la acelaración de la gravedad. Definiendo  $u= \\dot{\\theta}$ esta ecuación de segundo orden se puede escribir como un sistema de dos ecuaciones de primer orden\n",
    "\\begin{eqnarray}\n",
    "\\frac{d\\theta}{d t} &=& u \\hspace{5cm} (1)\\\\\n",
    "\\frac{d u}{d t} &=& - \\frac{g}{l} \\sin{(\\theta)}\n",
    "\\end{eqnarray}\n",
    "mientras que las condiciones iniciales transformadas quedan $(u(0),\\theta(0))=(\\dot{\\theta}_0,\\theta_0)$.\n",
    "\n",
    "Para $g=10 m/s^2$, $l=1 m$, $0\\le t\\le 10$ y las siguientes condiciones iniciales $u(0)=0$ y $\\theta(0)=0.5$, integre numéricamente este sistema de dos ecuaciones diferenciales ordinarias acopladas y luego grafique $\\theta$ vs. $t$. \n",
    "\n",
    "Luego grafique $\\theta$ vs $u$.\n",
    "\n",
    "Recuerde eligir un adecuado valor del número de pasos de integración $k$."
   ]
  },
  {
   "cell_type": "code",
   "execution_count": null,
   "metadata": {},
   "outputs": [],
   "source": [
    "# Identificamos x[0]=theta y x[1]=u.\n",
    "g = 10.0\n",
    "l = 1.0\n",
    "def f(x,t):\n",
    "    return np.array([x[1],-g/l*np.sin(x[0])])\n",
    "\n",
    "x0=np.array([0.5,0.0])\n",
    "a=0.0\n",
    "b=10.0\n",
    "k=200\n",
    "\n",
    "t_e,x_e = integrador_ode(euler,f,x0,a,b,k)\n",
    "t_2,x_2 = integrador_ode(rk2,f,x0,a,b,k)\n",
    "t_4,x_4 = integrador_ode(rk4,f,x0,a,b,k)"
   ]
  },
  {
   "cell_type": "code",
   "execution_count": null,
   "metadata": {},
   "outputs": [],
   "source": [
    "plt.rcParams[\"figure.figsize\"] = (7,5) # Dimensions of the figure\n",
    "plt.rcParams['figure.dpi'] = 100 # Resolucion\n",
    "plt.title(\"Ejemplo 2\")\n",
    "plt.xlabel(\"t\")\n",
    "plt.ylabel(\"x\")\n",
    "\n",
    "# Euler\n",
    "plt.scatter(t_e,x_e[0,:],label='Euler,k='+str(k),color='red',linestyle='-')\n",
    "\n",
    "# RK2\n",
    "plt.scatter(t_2,x_2[0,:],label='RK2,k='+str(k),color='blue',linestyle='-')\n",
    "\n",
    "# Rk4\n",
    "plt.scatter(t_4,x_4[0,:],label='RK4,k='+str(k),color='cyan',linestyle='-')\n",
    "\n",
    "\n",
    "plt.legend()\n",
    "plt.show()"
   ]
  },
  {
   "cell_type": "code",
   "execution_count": null,
   "metadata": {},
   "outputs": [],
   "source": [
    "plt.rcParams[\"figure.figsize\"] = (7,5) # Dimensions of the figure\n",
    "plt.rcParams['figure.dpi'] = 100 # Resolucion\n",
    "plt.title(\"Ejemplo 2\")\n",
    "plt.xlabel(\"t\")\n",
    "plt.ylabel(\"x\")\n",
    "\n",
    "# Euler\n",
    "plt.scatter(x_e[1,:],x_e[0,:],label='Euler,k='+str(k),color='red',linestyle='-')\n",
    "\n",
    "# RK2\n",
    "plt.scatter(x_2[1,:],x_2[0,:],label='RK2,k='+str(k),color='blue',linestyle='-')\n",
    "\n",
    "# Rk4\n",
    "plt.scatter(x_4[1,:],x_4[0,:],label='RK4,k='+str(k),color='cyan',linestyle='-')\n",
    "\n",
    "plt.legend()\n",
    "plt.show()"
   ]
  },
  {
   "cell_type": "code",
   "execution_count": null,
   "metadata": {},
   "outputs": [],
   "source": []
  }
 ],
 "metadata": {
  "@webio": {
   "lastCommId": null,
   "lastKernelId": null
  },
  "kernelspec": {
   "display_name": "Python 3",
   "language": "python",
   "name": "python3"
  },
  "language_info": {
   "codemirror_mode": {
    "name": "ipython",
    "version": 3
   },
   "file_extension": ".py",
   "mimetype": "text/x-python",
   "name": "python",
   "nbconvert_exporter": "python",
   "pygments_lexer": "ipython3",
   "version": "3.7.9"
  }
 },
 "nbformat": 4,
 "nbformat_minor": 4
}
