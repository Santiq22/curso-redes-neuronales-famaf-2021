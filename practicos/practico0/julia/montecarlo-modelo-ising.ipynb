{
 "cells": [
  {
   "cell_type": "markdown",
   "metadata": {},
   "source": [
    "**Teoría**\n",
    "\n",
    "El objetivo es calcular valores esperados termodinámicos para el modelo de Ising usando el método de Monte Carlo.\n",
    "\n",
    "**Distribución de Boltzmann**\n",
    "\n",
    "Según la mecánica estadística, la estadística de configuraciones de un sistema en equilibirio termodinámico a temperatura $T=1/(k_B\\beta)\\in [0,\\infty)$, viene descripta por la distribución de Boltzmann, en donde\n",
    "\n",
    "$$ p_s := Z^{-1}e^{-\\beta E_s} $$\n",
    "\n",
    "es la probabilidad de que el sistema se encuentre en la configuración $s$, $E_s$ denota la energía del sistema en la configuración $s$ y\n",
    "\n",
    "$$ Z := \\sum_s e^{-\\beta E_s} $$ \n",
    "\n",
    "denota la función partición del sistema.\n",
    "\n",
    "El valor esperado termodinámico de una observable configuracional $O_s$ viene dado por\n",
    "\n",
    "$$ \\langle O \\rangle := \\sum_s p_sO_s $$\n",
    "\n",
    "**Modelo de Ising**\n",
    "\n",
    "En el modelo de Ising de $N$ sitios, el estado configuracional $s$ vienen descripto por $N$ variables de espin clasicos $s_i\\in \\{-1,1\\}$ para $i=1,...,N$, y por una energía configuracional\n",
    "\n",
    "$$ E_s = -\\sum_{ij} J_{ij}s_is_j - \\sum_i h_is_i $$\n",
    "\n",
    "donde $s=(s_1,...,s_N)$, $J_{ij}\\in \\mathbb{R}$ es una constante de interacción entre los espines $i$ y $j$ que satisface $J_{ii}=0$ y $J_{ij}=J_{ji}$, y $h_i$ es el campo local asociado al spin $i$.\n",
    "\n",
    "Notar, si $J_{ij}>0$, luego los espines $i$ y $j$ reducen la energía si están alineados, i.e. si $s_i=s_j$, e incrementan la energía en caso contrario, i.e. si $s_i=-s_j$.\n",
    "\n",
    "El parámetro de orden que nos interesa calcular en el modelo de Ising es\n",
    "\n",
    "$$ m_s = \\frac{1}{N}\\sum_i s_i $$\n",
    "\n",
    "con valor termodinámico\n",
    "\n",
    "$$ m = \\langle m_s \\rangle = \\sum_s p_sm_s $$\n",
    "\n",
    "**Algoritmo de Metropolis**\n",
    "\n",
    "Podemos muestrear configuraciones $s$ del modelo de Ising utilizando el algoritmo de Metropolis.\n",
    "El mismo consiste en\n",
    "\n",
    "1. Elegir una configuración inicial, típicamente, una elegida al azar.\n",
    "\n",
    "2. Elegir un sitio $k$ al azar.\n",
    "\n",
    "3. Calcular el cambio de energia $\\Delta E$ que surge si el espin del sitio $k$ se flipea (i.e. se da vuelta).\n",
    "\n",
    "4. Generar un número aleatorio $r\\in [0,1]$ con distribución uniforme.\n",
    "\n",
    "5. Si $r<e^{-\\beta \\Delta E}$, aceptar el espín flip, y en caso contrario, rechazarlo.\n",
    "\n",
    "6. Volver al paso 2 y repetir.\n",
    "\n",
    "Entre los pasos 2. y 6. inclusives, existe un loop del algoritmo. $N$ iteraciones de este loop se considera un paso de Monte Carlo, ya que, en promedio, todos los sitios son considerados alguna vez.\n",
    "\n",
    "Luego de cierto período de termalización (alrededor de $N^2$ pasos de Monte Carlo), este algoritmo comenzará a generar, en sucesivos pasos de Monte Carlo, una secuencia $s^1,s^2,...$ de muestras de configuraciones que son consistentes con la ecuación de Boltzmann.\n",
    "\n",
    "Notar que si flipeamos el espín $k$-ésimo, tenemos $s_i^{t+1}=s_i^{t}$ para todo $i\\neq k$ y $s_k^{t+1}=-s_k^{t}$.\n",
    "Luego, el cambio de energía resultante es\n",
    "\n",
    "\\begin{eqnarray}\n",
    "\\Delta E = E^{t+1}-E^t \n",
    "&=& \n",
    "-\\sum_{ij} J_{ij}s_i^{t+1}s_j^{t+1} -\\sum_i h_is_i^{t+1}\n",
    "+\\sum_{ij} J_{ij}s_i^ts_j^t +\\sum_i h_is_i^t\n",
    "\\\\\n",
    "&=& \n",
    "-\\sum_{i,j\\neq k} J_{ij}(s_i^{t+1}s_j^{t+1}-s_i^ts_j^t) \n",
    "-\\sum_{i\\neq k} J_{ik}(s_i^{t+1}s_k^{t+1}-s_i^ts_k^t) \n",
    "-\\sum_{j\\neq k} J_{kj}(s_k^{t+1}s_j^{t+1}-s_k^ts_j^t) \n",
    "-J_{kk}(s_k^{t+1}s_k^{t+1}-s_k^ts_k^t) \n",
    "\\\\\n",
    "&&\n",
    "-\\sum_{i\\neq k} h_i(s_i^{t+1}-s_i^t)\n",
    "-h_k(s_k^{t+1}-s_k^t)\n",
    "\\\\\n",
    "&=& \n",
    "2s_k^{t}\\bigg(h_k+2\\sum_jJ_{kj}s_j^t\\bigg)\n",
    "\\end{eqnarray}\n",
    "\n",
    "Esto es muy útil para calcular $\\Delta E$ sin necesidad de flipear el espín."
   ]
  },
  {
   "cell_type": "code",
   "execution_count": null,
   "metadata": {},
   "outputs": [],
   "source": [
    "using Statistics\n",
    "using Plots"
   ]
  },
  {
   "cell_type": "code",
   "execution_count": null,
   "metadata": {},
   "outputs": [],
   "source": [
    "mutable struct Model\n",
    "    J::Array{Float64,2}\n",
    "    h::Array{Float64,1}\n",
    "    s::Array{Float64,1}\n",
    "    beta::Float64\n",
    "    function Model(N::Int64,beta::Float64)\n",
    "        new(zeros(N,N),zeros(N),ones(N),1.0)\n",
    "    end    \n",
    "end"
   ]
  },
  {
   "cell_type": "code",
   "execution_count": null,
   "metadata": {},
   "outputs": [],
   "source": [
    "model_size(model::Model) = size(model.h)[1]"
   ]
  },
  {
   "cell_type": "code",
   "execution_count": null,
   "metadata": {},
   "outputs": [],
   "source": [
    "[1,2,3].*[4,5,6]"
   ]
  },
  {
   "cell_type": "code",
   "execution_count": null,
   "metadata": {},
   "outputs": [],
   "source": [
    "function metropolis_step!(model::Model,k::Int64)\n",
    "    DE = 2.0*model.s[k]*(model.h[k]+2.0*sum(model.J[k,:].*model.s[:]))\n",
    "    if rand()<exp(-model.beta*DE)\n",
    "        model.s[k] *= -1.0\n",
    "    end\n",
    "end"
   ]
  },
  {
   "cell_type": "code",
   "execution_count": null,
   "metadata": {},
   "outputs": [],
   "source": [
    "function monte_carlo_step!(model::Model)\n",
    "    N = model_size(model)\n",
    "    for i in 1:N\n",
    "        k = rand(1:N)\n",
    "        metropolis_step!(model,k)\n",
    "    end\n",
    "end"
   ]
  },
  {
   "cell_type": "code",
   "execution_count": null,
   "metadata": {},
   "outputs": [],
   "source": [
    "function init_model!(model::Model)\n",
    "    N = model_size(model)\n",
    "    for i in 1:N\n",
    "        for j in i+1:N\n",
    "            model.J[i,j] = 1.0/N\n",
    "            model.J[j,i] = 1.0/N\n",
    "        end\n",
    "    end\n",
    "end"
   ]
  },
  {
   "cell_type": "code",
   "execution_count": null,
   "metadata": {},
   "outputs": [],
   "source": [
    "function random_state!(model)\n",
    "    N = model_size(model)\n",
    "    for i in 1:N\n",
    "        model.s[i] = rand(0:1)\n",
    "    end\n",
    "    model.s .*= 2.0\n",
    "    model.s .-= 1.0\n",
    "end"
   ]
  },
  {
   "cell_type": "code",
   "execution_count": null,
   "metadata": {},
   "outputs": [],
   "source": [
    "function order_parameter(model::Model)\n",
    "   sum(model.s)/model_size(model)\n",
    "end"
   ]
  },
  {
   "cell_type": "code",
   "execution_count": null,
   "metadata": {},
   "outputs": [],
   "source": [
    "model = Model(128,1.0)"
   ]
  },
  {
   "cell_type": "code",
   "execution_count": null,
   "metadata": {},
   "outputs": [],
   "source": [
    "init_model!(model)\n",
    "random_state!(model)\n",
    "model.s"
   ]
  },
  {
   "cell_type": "code",
   "execution_count": null,
   "metadata": {},
   "outputs": [],
   "source": [
    "order_parameter(model)"
   ]
  },
  {
   "cell_type": "code",
   "execution_count": null,
   "metadata": {},
   "outputs": [],
   "source": [
    "delta_T = 0.05\n",
    "T_max = 2.0\n",
    "list_m = []\n",
    "for T in delta_T:delta_T:T_max\n",
    "    model.beta = 1.0/T\n",
    "    N = model_size(model)\n",
    "    # Termalizamos\n",
    "    random_state!(model)    \n",
    "    for mc_step in 1:10*N*N\n",
    "        monte_carlo_step!(model)\n",
    "    end\n",
    "    # Medimos configuraciones\n",
    "    mc_step_max = N*N\n",
    "    list_abs_m = []\n",
    "    for mc_step in 1:mc_step_max\n",
    "        monte_carlo_step!(model)\n",
    "        m = order_parameter(model)\n",
    "        #println(\"beta=\",beta,\" mc_step=\",mc_step,\" m=\",m,\" model.s=\",model.s)\n",
    "        push!(list_abs_m,abs(m))\n",
    "    end\n",
    "    println(\"T=\",T,\" <|m|>=\",mean(list_abs_m),\" std_{|m|}=\",std(list_abs_m))\n",
    "    push!(list_m,mean(list_abs_m))\n",
    "end"
   ]
  },
  {
   "cell_type": "code",
   "execution_count": null,
   "metadata": {},
   "outputs": [],
   "source": [
    "plot(delta_T:delta_T:T_max,list_m,xlabel=\"T\",ylabel=\"|m|\")"
   ]
  }
 ],
 "metadata": {
  "@webio": {
   "lastCommId": null,
   "lastKernelId": null
  },
  "kernelspec": {
   "display_name": "Julia 1.6.1",
   "language": "julia",
   "name": "julia-1.6"
  },
  "language_info": {
   "file_extension": ".jl",
   "mimetype": "application/julia",
   "name": "julia",
   "version": "1.6.1"
  }
 },
 "nbformat": 4,
 "nbformat_minor": 2
}
